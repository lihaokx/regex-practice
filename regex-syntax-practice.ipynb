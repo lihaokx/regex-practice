{
 "cells": [
  {
   "cell_type": "code",
   "execution_count": 3,
   "id": "a75f1cd3",
   "metadata": {},
   "outputs": [
    {
     "data": {
      "text/html": [
       "<style>[data-mime-type=\"application/vnd.jupyter.stdout\"] pre { font-size:40px}</style>"
      ],
      "text/plain": [
       "<IPython.core.display.HTML object>"
      ]
     },
     "metadata": {},
     "output_type": "display_data"
    },
    {
     "data": {
      "text/html": [
       "<p style=\"font-size:40px; line-height: 1; margin-bottom: 0.7em\"> <strong>negative lookahead</p>"
      ],
      "text/plain": [
       "<IPython.core.display.HTML object>"
      ]
     },
     "metadata": {},
     "output_type": "display_data"
    },
    {
     "name": "stdout",
     "output_type": "stream",
     "text": [
      "0 / 30\n",
      "(?!)\n",
      "The answer is correct. You are awesome!\n",
      "The answer is:  (?!)\n"
     ]
    }
   ],
   "source": [
    "\n",
    "import pandas as pd\n",
    "import random\n",
    "from random import randint\n",
    "from IPython.display import display, HTML\n",
    "from IPython.display import clear_output\n",
    "import xlrd\n",
    "import time\n",
    "\n",
    "Phrases = pd.read_excel('regex.xlsx' )\n",
    "# display(HTML('''<style>[data-mime-type=\"application/vnd.jupyter.stdout\"] pre { font-size:40px}</style>'''))\n",
    " \n",
    "n = len(Phrases)\n",
    "# print(Phrases)\n",
    "print(n)\n",
    "\n",
    "start = n-1\n",
    "i = 0\n",
    "\n",
    "df = pd.DataFrame(Phrases)\n",
    "\n",
    "# Randomly shuffle all rows\n",
    "Phrases = df.sample(frac=1 )  # random_state for reproducibility\n",
    " \n",
    "for i in range(start, -1, -1):\n",
    "    clear_output(wait=True)\n",
    "\n",
    "    display(HTML('''<style>[data-mime-type=\"application/vnd.jupyter.stdout\"] pre { font-size:40px}</style>'''))\n",
    "    display(HTML('<p style=\"font-size:40px; line-height: 1; margin-bottom: 0.7em\"> <strong>{}</p>'.format(Phrases.iloc[i][1] )))\n",
    "\n",
    "    print(str(i) + ' / ' +str(n))\n",
    "    a = input()\n",
    "    if a == Phrases.iloc[i][0]:\n",
    "        print(\"The answer is correct. You are awesome!\")\n",
    "        print(\"The answer is: \", Phrases.iloc[i][0])\n",
    "        time.sleep(0.6)\n",
    "    else:\n",
    "        while a != Phrases.iloc[i][0]:\n",
    "            print(\"The answer is not correct.\" )\n",
    "            \n",
    "            a = input()\n",
    "        clear_output(wait=True)\n",
    "        print(\"The answer is correct. You are awesome!\")\n",
    "        print(\"The answer is: \", Phrases.iloc[i][0])\n",
    "        time.sleep(0.6)\n"
   ]
  },
  {
   "cell_type": "code",
   "execution_count": null,
   "id": "8ee1b31e",
   "metadata": {},
   "outputs": [],
   "source": []
  }
 ],
 "metadata": {
  "kernelspec": {
   "display_name": "Python 3 (ipykernel)",
   "language": "python",
   "name": "python3"
  },
  "language_info": {
   "codemirror_mode": {
    "name": "ipython",
    "version": 3
   },
   "file_extension": ".py",
   "mimetype": "text/x-python",
   "name": "python",
   "nbconvert_exporter": "python",
   "pygments_lexer": "ipython3",
   "version": "3.10.8"
  }
 },
 "nbformat": 4,
 "nbformat_minor": 5
}
