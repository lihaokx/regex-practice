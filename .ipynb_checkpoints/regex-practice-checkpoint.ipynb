{
 "cells": [
  {
   "cell_type": "code",
   "execution_count": 1,
   "id": "51a9e27a",
   "metadata": {},
   "outputs": [
    {
     "name": "stdout",
     "output_type": "stream",
     "text": [
      "Match result: None\n",
      "Search result: None\n",
      "Findall result: []\n",
      "Split result: ['I have 123 apples and 456 bananas.']\n",
      "Replace result: I have 123 apples and 456 bananas.\n"
     ]
    }
   ],
   "source": [
    "import re\n",
    "\n",
    "pattern = \"b[aeiou]r\"\n",
    "\n",
    "text = \"I have 123 apples and 456 bananas.\"\n",
    "\n",
    "match_result = re.match(pattern, text)\n",
    "print(\"Match result:\", match_result)\n",
    "\n",
    "search_result = re.search(pattern, text)\n",
    "print(\"Search result:\", search_result)\n",
    "\n",
    "findall_result = re.findall(pattern, text)\n",
    "print(\"Findall result:\", findall_result)\n",
    "\n",
    "split_result = re.split(pattern, text)\n",
    "print(\"Split result:\", split_result)\n",
    "\n",
    "replace_result = re.sub(pattern, \"X\", text)\n",
    "print(\"Replace result:\", replace_result)"
   ]
  },
  {
   "cell_type": "code",
   "execution_count": 2,
   "id": "ed9a6d7b",
   "metadata": {},
   "outputs": [
    {
     "name": "stdout",
     "output_type": "stream",
     "text": [
      "Findall result: ['bar', 'bir', 'baor', 'bur', 'bor']\n",
      "Findall result: ['bir', 'bur, bvr, bor']\n"
     ]
    }
   ],
   "source": [
    "text = \"bar, bir, baor, bur, bvr, bor\"\n",
    "\n",
    "pattern1 = \"b[aeiou]+r\"\n",
    "findall_result = re.findall(pattern1, text)\n",
    "print(\"Findall result:\", findall_result)\n",
    "\n",
    "pattern2 = \"b[^ae]+r\"\n",
    "findall_result = re.findall(pattern2, text)\n",
    "print(\"Findall result:\", findall_result)\n"
   ]
  },
  {
   "cell_type": "code",
   "execution_count": 3,
   "id": "0a0d2aa5",
   "metadata": {},
   "outputs": [
    {
     "name": "stdout",
     "output_type": "stream",
     "text": [
      "Findall result: ['e', 'f', 'g', 'h', 'i']\n"
     ]
    }
   ],
   "source": [
    "text2 = \"abcdefghijklmnopqrstuvwxyz\"\n",
    "\n",
    "pattern3 = \"[e-i]\"\n",
    "findall_result = re.findall(pattern3, text2)\n",
    "print(\"Findall result:\", findall_result)\n"
   ]
  },
  {
   "cell_type": "code",
   "execution_count": 4,
   "id": "cedb5d61",
   "metadata": {},
   "outputs": [
    {
     "name": "stdout",
     "output_type": "stream",
     "text": [
      "Findall result: ['6', '7', '8', '6', '7', '8']\n"
     ]
    }
   ],
   "source": [
    "text3 = \"01234567896789\"\n",
    "\n",
    "p4 = \"[6-8]\"\n",
    "findall_result = re.findall(p4, text3)\n",
    "print(\"Findall result:\", findall_result)\n"
   ]
  },
  {
   "cell_type": "code",
   "execution_count": 5,
   "id": "c9c8bff0",
   "metadata": {},
   "outputs": [
    {
     "name": "stdout",
     "output_type": "stream",
     "text": [
      "Findall result: ['br', 'ber', 'beer']\n",
      "Findall result: ['ber', 'beer']\n"
     ]
    }
   ],
   "source": [
    "text4 = \"br ber beer\"\n",
    "\n",
    "p5 = \"be*r\"\n",
    "findall_result = re.findall(p5, text4)\n",
    "print(\"Findall result:\", findall_result)\n",
    "\n",
    "p6 = \"be+r\"\n",
    "findall_result = re.findall(p6, text4)\n",
    "print(\"Findall result:\", findall_result)"
   ]
  },
  {
   "cell_type": "code",
   "execution_count": 6,
   "id": "f1e82461",
   "metadata": {},
   "outputs": [
    {
     "name": "stdout",
     "output_type": "stream",
     "text": [
      "Findall result: ['color', 'colour']\n"
     ]
    }
   ],
   "source": [
    "text5 = \"color, colour\"\n",
    "\n",
    "p7 = \"colou?r\"\n",
    "findall_result = re.findall(p7, text5)\n",
    "print(\"Findall result:\", findall_result)"
   ]
  },
  {
   "cell_type": "code",
   "execution_count": 7,
   "id": "655daeb0",
   "metadata": {},
   "outputs": [
    {
     "name": "stdout",
     "output_type": "stream",
     "text": [
      "['beeer', 'beeeer']\n",
      "['ber', 'beer', 'beeer']\n"
     ]
    }
   ],
   "source": [
    "text6 = \"ber beer beeer beeeer\"\n",
    "\n",
    "p8 = \"be{3,}r\"\n",
    "findall = re.findall(p8, text6)\n",
    "print(findall)\n",
    "\n",
    "p9 = \"be{1,3}r\"\n",
    "findall = re.findall(p9, text6)\n",
    "print(findall)"
   ]
  },
  {
   "cell_type": "code",
   "execution_count": 8,
   "id": "5bdf70a3",
   "metadata": {},
   "outputs": [
    {
     "name": "stdout",
     "output_type": "stream",
     "text": [
      "['dp', 'dep', 'deep']\n",
      "['dep', 'deep']\n",
      "['dp', 'dep', 'deep']\n"
     ]
    }
   ],
   "source": [
    "t = \"dp dep deep\"\n",
    "\n",
    "p = \"de*p\"\n",
    "f = re.findall(p, t)\n",
    "print(f)\n",
    "\n",
    "p = \"de+p\"\n",
    "f = re.findall(p, t)\n",
    "print(f)\n",
    "\n",
    "t = \"dp dep deep deap\"\n",
    "\n",
    "p = \"de*p\"\n",
    "f = re.findall(p, t)\n",
    "print(f)"
   ]
  },
  {
   "cell_type": "code",
   "execution_count": 9,
   "id": "a01281f5",
   "metadata": {},
   "outputs": [
    {
     "name": "stdout",
     "output_type": "stream",
     "text": [
      "['2021']\n",
      "['10', '2021']\n"
     ]
    }
   ],
   "source": [
    "t =\"Release 10/9/2021\"\n",
    "\n",
    "p = \"[0-9]{4}\"\n",
    "f = re.findall(p,t)\n",
    "print(f)\n",
    "\n",
    "p = \"[0-9]{2,}\"\n",
    "f = re.findall(p, t)\n",
    "print(f)"
   ]
  },
  {
   "cell_type": "code",
   "execution_count": 10,
   "id": "cff8916c",
   "metadata": {},
   "outputs": [
    {
     "name": "stdout",
     "output_type": "stream",
     "text": [
      "['haa', 'haa']\n"
     ]
    }
   ],
   "source": [
    "t = \"ha-ha,haa-haa\"\n",
    "\n",
    "p = \"(haa)\"\n",
    "f = re.findall(p, t)\n",
    "print(f)\n"
   ]
  },
  {
   "cell_type": "code",
   "execution_count": 11,
   "id": "f56f77e9",
   "metadata": {},
   "outputs": [
    {
     "name": "stdout",
     "output_type": "stream",
     "text": [
      "[]\n"
     ]
    }
   ],
   "source": [
    "t = \"ha-ha,haa-haa\"\n",
    "\n",
    "p = \"(ha)-\\1,(haa)-\\2\"\n",
    "f = re.findall(p, t)\n",
    "print(f)\n",
    "#?????????????????"
   ]
  },
  {
   "cell_type": "code",
   "execution_count": 12,
   "id": "2d675d32",
   "metadata": {},
   "outputs": [
    {
     "name": "stdout",
     "output_type": "stream",
     "text": [
      "[('123', '456', '7890')]\n",
      "<re.Match object; span=(0, 12), match='123-456-7890'>\n",
      "<re.Match object; span=(0, 12), match='123-456-7890'>\n",
      "[('555', '867', '5309')]\n",
      "[('456', '7890')]\n",
      "[('867', '5309')]\n"
     ]
    }
   ],
   "source": [
    "p = \"(\\d{3})-(\\d{3})-(\\d{4})\";\n",
    "phoneNumber1 = '123-456-7890';\n",
    "phoneNumber2 = '555-867-5309';\n",
    "\n",
    "f = re.findall(p, phoneNumber1)\n",
    "m = re.match(p, phoneNumber1)\n",
    "s = re.search(p, phoneNumber1)\n",
    "print(f)\n",
    "print(m)\n",
    "print(s)\n",
    "f = re.findall(p, phoneNumber2)\n",
    "print(f)\n",
    "\n",
    "p = \"(?:\\d{3})-(\\d{3})-(\\d{4})\";\n",
    "phoneNumber3 = '123-456-7890';\n",
    "phoneNumber4 = '555-867-5309';\n",
    "\n",
    "f = re.findall(p, phoneNumber1)\n",
    "print(f)\n",
    "f = re.findall(p, phoneNumber2)\n",
    "print(f)"
   ]
  },
  {
   "cell_type": "code",
   "execution_count": 13,
   "id": "6dd3a4f7",
   "metadata": {},
   "outputs": [
    {
     "name": "stdout",
     "output_type": "stream",
     "text": [
      "['c', 'r', '']\n"
     ]
    }
   ],
   "source": [
    "t =\"cat rat dog\"\n",
    " \n",
    "\n",
    "f = re.findall(r\"(c|r)at|dog\", t)\n",
    "print(f)"
   ]
  },
  {
   "cell_type": "code",
   "execution_count": 14,
   "id": "219ff557",
   "metadata": {},
   "outputs": [
    {
     "name": "stdout",
     "output_type": "stream",
     "text": [
      "['a', 'b', 'c', 'A', 'B', 'C', '1', '2', '3', '_']\n"
     ]
    }
   ],
   "source": [
    "t = \"abcABC123 _.:!?\"\n",
    "f = re.findall(\"\\w\", t)\n",
    "print(f)"
   ]
  },
  {
   "cell_type": "code",
   "execution_count": null,
   "id": "10a08043",
   "metadata": {},
   "outputs": [],
   "source": []
  }
 ],
 "metadata": {
  "kernelspec": {
   "display_name": "Python 3 (ipykernel)",
   "language": "python",
   "name": "python3"
  },
  "language_info": {
   "codemirror_mode": {
    "name": "ipython",
    "version": 3
   },
   "file_extension": ".py",
   "mimetype": "text/x-python",
   "name": "python",
   "nbconvert_exporter": "python",
   "pygments_lexer": "ipython3",
   "version": "3.10.8"
  }
 },
 "nbformat": 4,
 "nbformat_minor": 5
}
